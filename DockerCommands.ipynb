{
 "cells": [
  {
   "cell_type": "markdown",
   "source": [
    "# Docker Commands"
   ],
   "metadata": {
    "collapsed": false
   },
   "id": "882998355c02fc1b"
  },
  {
   "cell_type": "markdown",
   "source": [
    "#### Creating the Docker Image\n",
    "```bash\n",
    "docker build -t python-imdb .\n",
    "\n",
    "docker build -t iris-visualizer-image .\n",
    "```"
   ],
   "metadata": {
    "collapsed": false
   },
   "id": "a2617129724b5698"
  },
  {
   "cell_type": "markdown",
   "source": [
    "#### Creating the Docker Container\n",
    "```bash\n",
    "docker run data-processor-image\n",
    "```\n",
    "#### In systems Unix (Linux/Mac)\n",
    "```bash\n",
    "docker run --rm -v $(pwd):/app iris-visualizer-image\n",
    "```\n",
    "\n",
    "#### In Windows\n",
    "```bash\n",
    "docker run --rm -v $(pwd):/app iris-visualizer-image\n",
    "```\n",
    "\n",
    "The --rm flag ensures that the container is removed after the script is executed. The -v $(pwd):/app flag mounts the current directory into the /app directory in the container so that the output file iris_plot.png is accessible from your local machine\n",
    "\n",
    "#### Sometimes you need to specify the port number\n",
    "\n",
    "```bash\n",
    "docker run -p 8000:8888  jupyter/tensorflow-notebook\n",
    "```\n",
    "and use a token: \n",
    "```bash\n",
    "token = 1275ac5ecc03278bf38c2677fc020c8a644704def14d55b0\n",
    "```\n"
   ],
   "metadata": {
    "collapsed": false
   },
   "id": "19312c21ad662677"
  },
  {
   "cell_type": "markdown",
   "source": [
    "#### The docker pull command is used to download a Docker image from a Docker registry, most commonly Docker Hub, to your local machine\n",
    "\n",
    "```bash\n",
    "docker pull jupyter/tensorflow-notebook\n",
    "```"
   ],
   "metadata": {
    "collapsed": false
   },
   "id": "844b25ef4cc7a029"
  },
  {
   "cell_type": "markdown",
   "source": [
    "#### To check all the images \n",
    "\n",
    "```bash\n",
    "docker images\n",
    "```\n"
   ],
   "metadata": {
    "collapsed": false
   },
   "id": "5df6548498ba205c"
  },
  {
   "cell_type": "markdown",
   "source": [
    "#### Copy a local image to a repository in docker hub\n",
    "\n",
    "first you need to rename the image with the same name of your repository including a tag code\n",
    "```bash\n",
    "docker image tag example-2-transformers-notebook:latest oahumada/srt-translator:1.0\n",
    "```\n",
    "\n",
    "Then you should push it to docker hub\n",
    "```bash\n",
    "docker push oahumada/srt-translator:1.0\n",
    "```\n"
   ],
   "metadata": {
    "collapsed": false
   },
   "id": "f9fb79bc43a38b80"
  },
  {
   "cell_type": "markdown",
   "source": [
    "#### Run a docker image with compose creating a container\n",
    "```bash\n",
    "docker compose up\n",
    "```\n",
    "\n",
    "#### Stop a docker container with compose \n",
    "```bash\n",
    "docker compose down\n",
    "```\n",
    "\n",
    "What is a Docker Compose \n",
    "A Docker Compose file (docker-compose.yml) is a configuration file used by Docker Compose, a tool that defines and runs multi-container Docker applications. This file allows you to specify the configuration of the services (containers) you want to run, including the images to be used, the ports that should be exposed, volumes to be mounted, and other configuration options.\n",
    "\n",
    "Basic Structure of a Compose File\n",
    "version: Optional, specifies the version of the Compose file format. It's recommended to use the latest version compatible with your Docker version.\n",
    "\n",
    "services: Here, you define the services (containers) that your application requires. Each service is defined under a name and can include various settings like the Docker image, ports, volumes, etc.\n",
    "\n",
    "volumes and networks: (Optional) You can define volumes and networks that will be used in the services."
   ],
   "metadata": {
    "collapsed": false
   },
   "id": "a646b51b5a189671"
  },
  {
   "cell_type": "markdown",
   "source": [
    "#### Deleting  a docker image\n",
    "```bash\n",
    "docker rmi oahumada/srt-translator:1.0\n",
    "```"
   ],
   "metadata": {
    "collapsed": false
   },
   "id": "af5dcc825df434a8"
  },
  {
   "cell_type": "markdown",
   "source": [
    "#### Deleteing al the container that are ot in used\n",
    "```bash\n",
    "docker container prune\n",
    "```\n"
   ],
   "metadata": {
    "collapsed": false
   },
   "id": "56cda99c920468a6"
  }
 ],
 "metadata": {
  "kernelspec": {
   "display_name": "Python 3",
   "language": "python",
   "name": "python3"
  },
  "language_info": {
   "codemirror_mode": {
    "name": "ipython",
    "version": 2
   },
   "file_extension": ".py",
   "mimetype": "text/x-python",
   "name": "python",
   "nbconvert_exporter": "python",
   "pygments_lexer": "ipython2",
   "version": "2.7.6"
  }
 },
 "nbformat": 4,
 "nbformat_minor": 5
}
